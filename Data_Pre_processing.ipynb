{
 "cells": [
  {
   "cell_type": "code",
   "execution_count": null,
   "metadata": {
    "id": "wG8rimRMIC-w"
   },
   "outputs": [],
   "source": [
    "import pandas as pd\n",
    "from sklearn.preprocessing import MinMaxScaler\n",
    "\n",
    "# Load dataset\n",
    "data = pd.read_csv('/content/btcusd_1-min_data.csv')\n",
    "\n",
    "# Convert Timestamp to datetime and extract additional features\n",
    "data['Timestamp'] = pd.to_datetime(data['Timestamp'])\n",
    "data['DayOfWeek'] = data['Timestamp'].dt.dayofweek  # Extracting day of the week\n",
    "data['Hour'] = data['Timestamp'].dt.hour  # Extracting hour (if intraday data)\n",
    "\n",
    "# Feature Engineering\n",
    "data['5_day_MA'] = data['Close'].rolling(window=5).mean()\n",
    "data['20_day_MA'] = data['Close'].rolling(window=20).mean()\n",
    "data['Price_Change'] = data['Close'].pct_change()  # Daily price change\n",
    "data['Volume_Change'] = data['Volume'].pct_change()\n",
    "\n",
    "# Drop rows with NaN values after feature engineering\n",
    "data.dropna(inplace=True)\n",
    "\n",
    "# Replace infinite values (if any)\n",
    "data.replace([float('inf'), float('-inf')], 0, inplace=True)\n",
    "\n",
    "# Ensure no NaN values remain after replacement\n",
    "data.fillna(0, inplace=True)\n",
    "\n",
    "# Normalization\n",
    "scaler = MinMaxScaler()\n",
    "data[['Open', 'High', 'Low', 'Close', 'Volume', '5_day_MA', '20_day_MA', 'Price_Change', 'Volume_Change']] = scaler.fit_transform(\n",
    "    data[['Open', 'High', 'Low', 'Close', 'Volume', '5_day_MA', '20_day_MA', 'Price_Change', 'Volume_Change']]\n",
    ")\n",
    "\n",
    "# Create lagged features\n",
    "data['Close_Lag1'] = data['Close'].shift(1)\n",
    "data['Volume_Lag1'] = data['Volume'].shift(1)\n",
    "data.dropna(inplace=True)\n",
    "\n",
    "# Save the processed data to a new CSV file\n",
    "data.to_csv('processed_crypto_data.csv', index=False)\n"
   ]
  }
 ],
 "metadata": {
  "colab": {
   "provenance": []
  },
  "kernelspec": {
   "display_name": "Python 3",
   "name": "python3"
  },
  "language_info": {
   "name": "python"
  }
 },
 "nbformat": 4,
 "nbformat_minor": 0
}
